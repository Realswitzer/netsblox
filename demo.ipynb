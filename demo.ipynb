{
 "cells": [
  {
   "cell_type": "markdown",
   "id": "1fb8a8b8",
   "metadata": {},
   "source": [
    "# This Notebook has all of the code samples shown in the presentation.\n",
    "eNBy is aliased to nblib since it sounded more professional, though most of the code is from other scripts put into a notebook."
   ]
  },
  {
   "cell_type": "code",
   "execution_count": null,
   "id": "36acbe97",
   "metadata": {},
   "outputs": [],
   "source": [
    "from typing import List\n",
    "import netsblox\n",
    "\n",
    "client = netsblox.Client(run_forever=True)\n",
    "roboscape = netsblox.RoboScape(client)\n",
    "\n",
    "commandStorage: List[str] = []\n",
    "robots: List[str] = roboscape.get_robots()\n",
    "\n",
    "\n",
    "@client.on_message(\"robot command\")\n",
    "def on_command(robot, command):\n",
    "    tempStorage: str = f\"{robot}: {command}\"\n",
    "    commandStorage.append(tempStorage)\n",
    "    if len(commandStorage) > 99:\n",
    "        commandStorage.pop(0)\n",
    "\n",
    "\n",
    "for robot in robots:\n",
    "    roboscape.listen(robot)"
   ]
  },
  {
   "cell_type": "code",
   "execution_count": 5,
   "id": "6b7a3bdf",
   "metadata": {},
   "outputs": [
    {
     "name": "stdout",
     "output_type": "stream",
     "text": [
      "Beeped 0004f31e37b1\n",
      "Beeped 0004f31d4e81\n",
      "Beeped 0004f3769028\n"
     ]
    },
    {
     "name": "stderr",
     "output_type": "stream",
     "text": [
      "ws error: Connection timed out\n",
      "ws close\n"
     ]
    }
   ],
   "source": [
    "import netsblox\n",
    "\n",
    "client = netsblox.Client(run_forever=True)\n",
    "roboscape = netsblox.RoboScape(client)\n",
    "\n",
    "for robot in roboscape.get_robots():\n",
    "    if robot.endswith('37ac'): continue\n",
    "    roboscape.send(robot, 'beep 100 100')\n",
    "    print(f'Beeped {robot}')\n",
    "\n",
    "exit()"
   ]
  },
  {
   "cell_type": "code",
   "execution_count": null,
   "id": "4cf8ede2",
   "metadata": {},
   "outputs": [],
   "source": [
    "# Plays midi file through robot\n",
    "import netsblox\n",
    "import time\n",
    "import nblib\n",
    "import mido\n",
    "\n",
    "Client = netsblox.Client()\n",
    "RoboScape = netsblox.RoboScape(client=Client)\n",
    "print(\"Initialized RoboScape\")\n",
    "nb = nblib.nb(Client, RoboScape, \"37ac\")\n",
    "\n",
    "mid = mido.MidiFile(\"midi/tetris.mid\")\n",
    "note_events = []\n",
    "for msg in mid:\n",
    "    if msg.type == \"note_on\" and msg.velocity > 0:\n",
    "        freq = nb.music.midi_to_freq(msg.note)\n",
    "        duration = msg.time\n",
    "        if duration < 0.1:\n",
    "            continue\n",
    "        note_events.append((freq, duration * 2))\n",
    "\n",
    "while not nb.this.connected():\n",
    "    time.sleep(1)\n",
    "input(\"ready\")\n",
    "for freq, dur in note_events:\n",
    "    nb.this.beep(int(dur * 1000), int(freq))"
   ]
  },
  {
   "cell_type": "code",
   "execution_count": 12,
   "id": "d790696b",
   "metadata": {},
   "outputs": [
    {
     "name": "stdout",
     "output_type": "stream",
     "text": [
      "Initialized RoboScape\n",
      "[(233.08188075904496, 0.008333333333333333), (246.94165062806206, 0.19583333333333333), (233.08188075904496, 0), (220.0, 0.19583333333333333), (184.9972113558172, 0), (195.99771799087463, 0.0125), (233.08188075904496, 0), (233.08188075904496, 0.19583333333333333), (220.0, 0), (207.65234878997256, 0.0125), (207.65234878997256, 0.004166666666666667), (233.08188075904496, 0.19166666666666665), (207.65234878997256, 0), (233.08188075904496, 0.39166666666666666), (184.9972113558172, 0.016666666666666666), (41.20344461410875, 0), (82.4068892282175, 0.004166666666666667), (41.20344461410875, 0.19583333333333333), (82.4068892282175, 0), (41.20344461410875, 0.19583333333333333), (82.4068892282175, 0), (41.20344461410875, 0), (82.4068892282175, 0.19583333333333333), (55.0, 0), (110.0, 0.0125), (55.0, 0.19583333333333333), (110.0, 0), (55.0, 0.19583333333333333), (110.0, 0), (55.0, 0), (110.0, 0.19583333333333333), (51.91308719749314, 0), (103.82617439498628, 0.0125), (51.91308719749314, 0.19583333333333333), (103.82617439498628, 0), (41.20344461410875, 0.19583333333333333), (82.4068892282175, 0), (41.20344461410875, 0), (82.4068892282175, 0.19583333333333333), (55.0, 0), (110.0, 0.0125), (55.0, 0.19583333333333333), (110.0, 0), (55.0, 0.19583333333333333), (110.0, 0), (61.7354126570155, 0), (65.40639132514966, 0.19583333333333333), (73.41619197935188, 0), (36.70809598967594, 0.0125), (36.70809598967594, 0.20416666666666666), (36.70809598967594, 0.19583333333333333), (36.70809598967594, 0.09583333333333333)]\n",
      "[(293.6647679174076, 0.004166666666666667), (277.1826309768721, 0), (311.1269837220809, 0.19583333333333333), (293.6647679174076, 0), (293.6647679174076, 0), (261.6255653005986, 0), (261.6255653005986, 0), (293.6647679174076, 0.3958333333333333)]\n"
     ]
    },
    {
     "name": "stderr",
     "output_type": "stream",
     "text": [
      "ws error: Connection timed out\n",
      "ws close\n"
     ]
    }
   ],
   "source": [
    "# Plays midi file using 2 robots\n",
    "import netsblox\n",
    "import time\n",
    "import nblib\n",
    "import mido\n",
    "import threading\n",
    "\n",
    "Client = netsblox.Client()\n",
    "RoboScape = netsblox.RoboScape(client=Client)\n",
    "print(\"Initialized RoboScape\")\n",
    "robot1 = nblib.nb(Client, RoboScape, \"37ac\")\n",
    "robot2 = nblib.nb(Client, RoboScape, \"4e81\")\n",
    "\n",
    "midis = [mido.MidiFile(\"midi/maybe.mid\"), mido.MidiFile(\"midi/maybe2.mid\")]\n",
    "low_notes = []\n",
    "high_notes = []\n",
    "\n",
    "for mid in midis:\n",
    "    for msg in mid:\n",
    "        if msg.type == \"note_on\" and msg.velocity > 0:\n",
    "            freq = robot1.music.midi_to_freq(msg.note)\n",
    "            duration = msg.time\n",
    "            if msg.note < 60:\n",
    "                low_notes.append((freq, duration))\n",
    "            else:\n",
    "                high_notes.append((freq, duration))\n",
    "\n",
    "print(low_notes)\n",
    "print(high_notes)\n",
    "\n",
    "while not robot1.this.connected() and robot2.this.connected():\n",
    "    time.sleep(1)\n",
    "input(\"ready\")\n",
    "def play_notes(robot,notes):\n",
    "    for freq, dur in notes:\n",
    "        robot.this.beep(int(dur * 1000), int(freq))\n",
    "\n",
    "# threading.Thread(target=play_notes, args=(robot1, low_notes)).start()\n",
    "threading.Thread(target=play_notes, args=(robot2, high_notes)).start()"
   ]
  },
  {
   "cell_type": "code",
   "execution_count": 17,
   "id": "347b1875",
   "metadata": {},
   "outputs": [
    {
     "name": "stdout",
     "output_type": "stream",
     "text": [
      "Initialized RoboScape\n"
     ]
    },
    {
     "name": "stderr",
     "output_type": "stream",
     "text": [
      "ws error: Connection timed out\n",
      "ws close\n"
     ]
    }
   ],
   "source": [
    "import netsblox\n",
    "import time\n",
    "import nblib\n",
    "import threading\n",
    "\n",
    "Client = netsblox.Client()\n",
    "RoboScape = netsblox.RoboScape(client=Client)\n",
    "print(\"Initialized RoboScape\")\n",
    "robot1 = nblib.nb(Client, RoboScape, \"37ac\")\n",
    "robot2 = nblib.nb(Client, RoboScape, \"4e81\")\n",
    "\n",
    "notes1 = [261.63, 293.66, 329.63, 349.23, 392.00, 440.00, 493.88, 523.25]\n",
    "notes2 = [261.63, 293.66, 329.63, 349.23, 392.00, 440.00, 493.88, 523.25]\n",
    "notes2.reverse()\n",
    "\n",
    "while not robot1.this.connected() and robot2.this.connected():\n",
    "    time.sleep(1)\n",
    "input(\"ready\")\n",
    "def play_notes(robot,notes):\n",
    "    for freq in notes:\n",
    "        robot.this.beep(250, int(round(freq)))\n",
    "\n",
    "threading.Thread(target=play_notes, args=(robot1, notes1)).start()\n",
    "threading.Thread(target=play_notes, args=(robot2, notes2)).start()"
   ]
  },
  {
   "cell_type": "code",
   "execution_count": null,
   "id": "6796022f",
   "metadata": {},
   "outputs": [],
   "source": [
    "import netsblox\n",
    "import nblib\n",
    "import random\n",
    "import keyboard\n",
    "import pygame\n",
    "import pygame_gui\n",
    "\n",
    "Client = netsblox.Client()\n",
    "RoboScape = netsblox.RoboScape(client=Client)\n",
    "print(\"Initialized RoboScape\")\n",
    "nb = nblib.nb(Client, RoboScape, \"37ac\")\n",
    "\n",
    "def getRobots():\n",
    "    i = 0\n",
    "    robots = nb.getRobots()\n",
    "    for robot in robots:\n",
    "        i += 1\n",
    "        print(f\"{i}: {robot}\")\n",
    "    return robots\n",
    "\n",
    "getRobots()\n",
    "\n",
    "# init movement\n",
    "keyboard.on_press_key(\"up\", lambda: nb.this.setSpeed(40, 40))\n",
    "keyboard.on_release_key(\"up\", lambda: nb.this.stop())\n",
    "keyboard.on_press_key(\"down\", lambda: nb.this.setSpeed(-40, -40))\n",
    "keyboard.on_release_key(\"down\", lambda: nb.this.stop())\n",
    "keyboard.on_press_key(\"right\", lambda: nb.this.setSpeed(20, -20))\n",
    "keyboard.on_release_key(\"right\", lambda: nb.this.stop())\n",
    "keyboard.on_press_key(\"left\", lambda: nb.this.setSpeed(-20, 20))\n",
    "keyboard.on_release_key(\"left\", lambda: nb.this.stop())\n",
    "\n",
    "# init gui\n",
    "pygame.init()\n",
    "pygame.display.set_caption(\"netsblox menu\")\n",
    "window_surface = pygame.display.set_mode((800, 600))\n",
    "background = pygame.Surface((800, 600))\n",
    "background.fill(pygame.Color(\"#000000\"))\n",
    "manager = pygame_gui.UIManager((800, 600))\n",
    "\n",
    "ScanAllButton = pygame_gui.elements.UIButton(relative_rect=pygame.Rect(0, 10, 75, 75), text=\"ScanAll\", manager=manager)\n",
    "BeepAllButton = pygame_gui.elements.UIButton(relative_rect=pygame.Rect(0, 95, 75, 75), text=\"BeepAll\", manager=manager)\n",
    "BeepOthersButton = pygame_gui.elements.UIButton(relative_rect=pygame.Rect(0, 180, 75, 75), text=\"BeepOthers\", manager=manager)\n",
    "BeepMineButton = pygame_gui.elements.UIButton(relative_rect=pygame.Rect(0, 265+85, 75, 75), text=\"BeepMine\", manager=manager)\n",
    "ListenAllButton = pygame_gui.elements.UIButton(relative_rect=pygame.Rect(0, 265+85+85, 75, 75), text=\"ListenAll\", manager=manager)\n",
    "\n",
    "@Client.on_message(nb.message.robotCommand, nb.message.robotMessage)\n",
    "def y(robot, command): print(f\"{robot}: {command}\")\n",
    "\n",
    "clock = pygame.time.Clock()\n",
    "is_running = True\n",
    "while is_running:\n",
    "    time_delta = clock.tick(60) / 1000\n",
    "    for event in pygame.event.get():\n",
    "        if event.type == pygame.QUIT: is_running = False\n",
    "        if event.type == pygame_gui.UI_BUTTON_PRESSED:\n",
    "            if event.ui_element == ScanAllButton:\n",
    "                robots = getRobots()\n",
    "            if event.ui_element == BeepAllButton:\n",
    "                for robot in nb.getRobots():\n",
    "                    nb.beep(robot, 100, random.randint(100, 4000))\n",
    "            if event.ui_element == BeepOthersButton:\n",
    "                for robot in nb.getOthers():\n",
    "                    nb.beep(robot, 100, random.randint(100, 4000))\n",
    "            if event.ui_element == BeepMineButton:\n",
    "                nb.this.beep(100, 300)\n",
    "            if event.ui_element == ListenAllButton:\n",
    "                nb.roboscape.listen(nb.roboscape.get_robots())\n",
    "        manager.process_events(event)\n",
    "    manager.update(time_delta)\n",
    "    window_surface.blit(background, (0, 0))\n",
    "    manager.draw_ui(window_surface)\n",
    "    pygame.display.update()\n",
    "pygame.quit()"
   ]
  }
 ],
 "metadata": {
  "kernelspec": {
   "display_name": ".venv",
   "language": "python",
   "name": "python3"
  },
  "language_info": {
   "codemirror_mode": {
    "name": "ipython",
    "version": 3
   },
   "file_extension": ".py",
   "mimetype": "text/x-python",
   "name": "python",
   "nbconvert_exporter": "python",
   "pygments_lexer": "ipython3",
   "version": "3.13.5"
  }
 },
 "nbformat": 4,
 "nbformat_minor": 5
}
